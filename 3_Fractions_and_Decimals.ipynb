{
  "nbformat": 4,
  "nbformat_minor": 0,
  "metadata": {
    "colab": {
      "provenance": [],
      "authorship_tag": "ABX9TyOnqyyhrq+hM3bKnii27NXX",
      "include_colab_link": true
    },
    "kernelspec": {
      "name": "python3",
      "display_name": "Python 3"
    },
    "language_info": {
      "name": "python"
    }
  },
  "cells": [
    {
      "cell_type": "markdown",
      "metadata": {
        "id": "view-in-github",
        "colab_type": "text"
      },
      "source": [
        "<a href=\"https://colab.research.google.com/github/Siri-Harshika/freeCodeCamp/blob/College-Algebra-with-Python/3_Fractions_and_Decimals.ipynb\" target=\"_parent\"><img src=\"https://colab.research.google.com/assets/colab-badge.svg\" alt=\"Open In Colab\"/></a>"
      ]
    },
    {
      "cell_type": "markdown",
      "source": [
        "### Positive and negative exponents     "
      ],
      "metadata": {
        "id": "lmb9ZMpIv4Dl"
      }
    },
    {
      "cell_type": "code",
      "execution_count": 2,
      "metadata": {
        "colab": {
          "base_uri": "https://localhost:8080/"
        },
        "id": "IU_Ppr66-qYq",
        "outputId": "d3436867-1cfe-4a75-fd96-6e573d42a653"
      },
      "outputs": [
        {
          "output_type": "stream",
          "name": "stdout",
          "text": [
            "1000\n",
            "100\n",
            "10\n",
            "1\n",
            "0.1\n",
            "0.01\n",
            "0.001\n"
          ]
        }
      ],
      "source": [
        "print(10**3)\n",
        "print(10**2)\n",
        "print(10**1)\n",
        "\n",
        "print(10**0)\n",
        "\n",
        "print(10**-1)\n",
        "print(10**-2)\n",
        "print(10**-3)"
      ]
    },
    {
      "cell_type": "markdown",
      "source": [
        "### Length of the input string"
      ],
      "metadata": {
        "id": "or5Lu-u3-r1J"
      }
    },
    {
      "cell_type": "code",
      "source": [
        "text = input(\"Enter a number: \")\n",
        "print(text)\n",
        "\n",
        "print(len(text))"
      ],
      "metadata": {
        "colab": {
          "base_uri": "https://localhost:8080/"
        },
        "id": "DIqwfNDT-3SW",
        "outputId": "b98ac98d-df35-490a-c24c-d6f2152d1d4b"
      },
      "execution_count": 3,
      "outputs": [
        {
          "output_type": "stream",
          "name": "stdout",
          "text": [
            "Enter a number: 123\n",
            "123\n",
            "3\n"
          ]
        }
      ]
    },
    {
      "cell_type": "markdown",
      "source": [
        "### Convert input string into float or int variable"
      ],
      "metadata": {
        "id": "7y2Nr1e5_If3"
      }
    },
    {
      "cell_type": "code",
      "source": [
        "text = input(\"Enter a number: \")\n",
        "\n",
        "num1 = float(text)\n",
        "print(num1 + 4)\n",
        "\n",
        "num2 = int(text)\n",
        "print(num2 + 4)"
      ],
      "metadata": {
        "colab": {
          "base_uri": "https://localhost:8080/"
        },
        "id": "OMpCpYC0_Sr4",
        "outputId": "e2b7442e-0d44-4cbc-94ac-806410f02088"
      },
      "execution_count": 8,
      "outputs": [
        {
          "output_type": "stream",
          "name": "stdout",
          "text": [
            "Enter a number: 123\n",
            "127.0\n",
            "127\n"
          ]
        }
      ]
    },
    {
      "cell_type": "markdown",
      "source": [
        "## Decimals to Fractions and Percentages\n"
      ],
      "metadata": {
        "id": "XuXQvae3_6dw"
      }
    },
    {
      "cell_type": "code",
      "source": [
        "# Getting a string input from user\n",
        "digits = input(\"Enter a decimal number less than one: \")\n",
        "\n",
        "# Converting string input to a float number\n",
        "num = float(digits)\n",
        "\n",
        "# Calculating the length of the input string\n",
        "exponent = float(len(digits))\n",
        "\n",
        "# Numerator value\n",
        "numerator = num * 10**exponent\n",
        "\n",
        "# Denominator value\n",
        "denominator = 10 ** exponent\n",
        "\n",
        "# Percent value\n",
        "percent = num * 100\n",
        "\n",
        "# Output values\n",
        "print(\"Decimal: \", num)\n",
        "print(\"Fraction: \", numerator, \"/\", denominator)\n",
        "print(\"Percent: \", percent, \"%\")"
      ],
      "metadata": {
        "colab": {
          "base_uri": "https://localhost:8080/"
        },
        "id": "Z5dTAjtLAAYU",
        "outputId": "789aa429-5285-44de-b554-81bbaf3a26fc"
      },
      "execution_count": 9,
      "outputs": [
        {
          "output_type": "stream",
          "name": "stdout",
          "text": [
            "Enter a decimal number less than one: .234\n",
            "Decimal:  0.234\n",
            "Fraction:  2340.0 / 10000.0\n",
            "Percent:  23.400000000000002 %\n"
          ]
        }
      ]
    }
  ]
}