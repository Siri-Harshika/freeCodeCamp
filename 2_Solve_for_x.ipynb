{
  "nbformat": 4,
  "nbformat_minor": 0,
  "metadata": {
    "colab": {
      "provenance": [],
      "authorship_tag": "ABX9TyPC3Rdm7Z69KsjU7jfmjH0D",
      "include_colab_link": true
    },
    "kernelspec": {
      "name": "python3",
      "display_name": "Python 3"
    },
    "language_info": {
      "name": "python"
    }
  },
  "cells": [
    {
      "cell_type": "markdown",
      "metadata": {
        "id": "view-in-github",
        "colab_type": "text"
      },
      "source": [
        "<a href=\"https://colab.research.google.com/github/Siri-Harshika/freeCodeCamp/blob/College-Algebra-with-Python/2_Solve_for_x.ipynb\" target=\"_parent\"><img src=\"https://colab.research.google.com/assets/colab-badge.svg\" alt=\"Open In Colab\"/></a>"
      ]
    },
    {
      "cell_type": "markdown",
      "source": [
        "# Code to solve for x"
      ],
      "metadata": {
        "id": "6U3BetJ7LD-g"
      }
    },
    {
      "cell_type": "code",
      "execution_count": 1,
      "metadata": {
        "colab": {
          "base_uri": "https://localhost:8080/"
        },
        "id": "gwuwHJhsKRkb",
        "outputId": "2db53e57-b638-412b-e78c-54446b73caa3"
      },
      "outputs": [
        {
          "output_type": "stream",
          "name": "stdout",
          "text": [
            "x =  [-2, 2]\n"
          ]
        }
      ],
      "source": [
        "# Syntax to solve for x in an eqution\n",
        "import sympy\n",
        "from sympy import symbols\n",
        "from sympy.solvers import solve\n",
        "\n",
        "# Defining x as a variable\n",
        "x = symbols('x')\n",
        "\n",
        "# The equation goes here\n",
        "eq = 4 * x**2 - 16\n",
        "\n",
        "# Displaying the answer of the equation\n",
        "print(\"x = \", solve(eq,x))"
      ]
    }
  ]
}