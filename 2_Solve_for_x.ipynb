{
  "nbformat": 4,
  "nbformat_minor": 0,
  "metadata": {
    "colab": {
      "provenance": [],
      "authorship_tag": "ABX9TyPHlcQ5qZtNuwyfgj2g4F3O",
      "include_colab_link": true
    },
    "kernelspec": {
      "name": "python3",
      "display_name": "Python 3"
    },
    "language_info": {
      "name": "python"
    }
  },
  "cells": [
    {
      "cell_type": "markdown",
      "metadata": {
        "id": "view-in-github",
        "colab_type": "text"
      },
      "source": [
        "<a href=\"https://colab.research.google.com/github/Siri-Harshika/freeCodeCamp/blob/College-Algebra-with-Python/2_Solve_for_x.ipynb\" target=\"_parent\"><img src=\"https://colab.research.google.com/assets/colab-badge.svg\" alt=\"Open In Colab\"/></a>"
      ]
    },
    {
      "cell_type": "markdown",
      "source": [
        "### Code to solve for x\n"
      ],
      "metadata": {
        "id": "_KU9LXOsoFxP"
      }
    },
    {
      "cell_type": "code",
      "execution_count": 11,
      "metadata": {
        "colab": {
          "base_uri": "https://localhost:8080/"
        },
        "id": "gwuwHJhsKRkb",
        "outputId": "b6c8b4a6-1375-4034-a3ba-97f7fca5d94c"
      },
      "outputs": [
        {
          "output_type": "stream",
          "name": "stdout",
          "text": [
            "x =  [-2, 2]\n"
          ]
        }
      ],
      "source": [
        "# Syntax to solve for x in an eqution\n",
        "import sympy\n",
        "from sympy import symbols\n",
        "from sympy.solvers import solve\n",
        "\n",
        "# Defining x as a variable\n",
        "x = symbols('x')\n",
        "\n",
        "# Put the equation here\n",
        "eq = 4 * x**2 - 16\n",
        "\n",
        "# Displaying the answer of the equation\n",
        "print(\"x = \", solve(eq,x))"
      ]
    },
    {
      "cell_type": "markdown",
      "source": [
        "### Doing more with the solution\n"
      ],
      "metadata": {
        "id": "mCiEMBuOn4dv"
      }
    },
    {
      "cell_type": "code",
      "source": [
        "# Syntax to solve for x in an eqution\n",
        "import sympy\n",
        "from sympy import symbols\n",
        "from sympy.solvers import solve\n",
        "\n",
        "# Defining x as a variable\n",
        "x = symbols('x')\n",
        "\n",
        "# Put the equation here\n",
        "eq = 4 * x**2 - 16\n",
        "\n",
        "# Displaying the answer of the equation\n",
        "solution = solve(eq,x)\n",
        "print(\"x = \", solution[0])"
      ],
      "metadata": {
        "colab": {
          "base_uri": "https://localhost:8080/"
        },
        "id": "Fywoi7ECn77x",
        "outputId": "a9ebcb4e-8675-43f2-a172-632dcbeea6b9"
      },
      "execution_count": 10,
      "outputs": [
        {
          "output_type": "stream",
          "name": "stdout",
          "text": [
            "x =  -2\n"
          ]
        }
      ]
    },
    {
      "cell_type": "markdown",
      "source": [
        "### Prompt for someone to the equation, then solve for x"
      ],
      "metadata": {
        "id": "eJxVJPYtm-RN"
      }
    },
    {
      "cell_type": "code",
      "source": [
        "# Syntax to solve for x in an eqution\n",
        "import sympy\n",
        "from sympy import symbols\n",
        "from sympy.solvers import solve\n",
        "\n",
        "# Defining x as a variable\n",
        "x = symbols('x')\n",
        "\n",
        "# Taking equation as the input\n",
        "eq = input('Enter equation in terms of x: 0 = ')\n",
        "\n",
        "# Displaying the answer of the equation\n",
        "print(\"x = \", solve(eq,x))"
      ],
      "metadata": {
        "colab": {
          "base_uri": "https://localhost:8080/"
        },
        "id": "501DhNB6nDwj",
        "outputId": "d8c28b71-b309-421a-bc60-2b3b13ebc0e5"
      },
      "execution_count": 8,
      "outputs": [
        {
          "output_type": "stream",
          "name": "stdout",
          "text": [
            "Enter equation in terms of x: 0 = 4 * x**2 - 4\n",
            "x =  [-1, 1]\n"
          ]
        }
      ]
    },
    {
      "cell_type": "markdown",
      "source": [
        "### Multiple answers"
      ],
      "metadata": {
        "id": "0Ua2Z8hcqXLy"
      }
    },
    {
      "cell_type": "code",
      "source": [
        "# Syntax to solve for x in an eqution\n",
        "import sympy\n",
        "from sympy import symbols\n",
        "from sympy.solvers import solve\n",
        "\n",
        "# Defining x as a variable\n",
        "x = symbols('x')\n",
        "\n",
        "# Taking equation as the input\n",
        "eq = input('Enter equation in terms of x: 0 = ')\n",
        "\n",
        "# Displaying the answer of the equation\n",
        "solution = solve(eq,x)\n",
        "for s in solution:\n",
        "    print(\"x = \", s)"
      ],
      "metadata": {
        "colab": {
          "base_uri": "https://localhost:8080/"
        },
        "id": "bYcMVVJYqZ2D",
        "outputId": "f39c5a58-557e-42a6-ab84-55a781d1637a"
      },
      "execution_count": 15,
      "outputs": [
        {
          "output_type": "stream",
          "name": "stdout",
          "text": [
            "Enter equation in terms of x: 0 = (x-1)*(x+2)*(x-3)\n",
            "x =  -2\n",
            "x =  1\n",
            "x =  3\n"
          ]
        }
      ]
    },
    {
      "cell_type": "markdown",
      "source": [
        "### Solving in other ways"
      ],
      "metadata": {
        "id": "DxW_LDUsrhFK"
      }
    },
    {
      "cell_type": "code",
      "source": [
        "from sympy import *\n",
        "\n",
        "# Setting 'x' and 'y'as variables\n",
        "var('x y')\n",
        "\n",
        "# Put equation here\n",
        "first = 4*x - y\n",
        "\n",
        "# Sympy syntax for equation equal to zero\n",
        "eq1 = Eq(first, 0)\n",
        "\n",
        "# Sympy solve for x\n",
        "sol = solve(eq1, x)\n",
        "\n",
        "# Show factored results\n",
        "print(\"x = \", sol[0])"
      ],
      "metadata": {
        "colab": {
          "base_uri": "https://localhost:8080/"
        },
        "id": "Y_xqWUEjrkiC",
        "outputId": "bf665ba4-da8d-4716-c838-b82220315192"
      },
      "execution_count": 17,
      "outputs": [
        {
          "output_type": "stream",
          "name": "stdout",
          "text": [
            "x =  y/4\n"
          ]
        }
      ]
    },
    {
      "cell_type": "markdown",
      "source": [
        "### Factoring"
      ],
      "metadata": {
        "id": "Bueh-11gtulJ"
      }
    },
    {
      "cell_type": "code",
      "source": [
        "import sympy\n",
        "from sympy import *\n",
        "\n",
        "# Setting 'x' and 'y' as variables\n",
        "var('x y')\n",
        "\n",
        "# Set equation equal to zero\n",
        "eq = x**3 - 2 * x**2 - 5*x + 6   # x^3 - 2x^2 - 5x + 6\n",
        "\n",
        "# Showing the factors of the equation\n",
        "sympy.factor(eq)"
      ],
      "metadata": {
        "colab": {
          "base_uri": "https://localhost:8080/",
          "height": 39
        },
        "id": "6Z24SQ0CtwpY",
        "outputId": "2c957408-72e1-487a-f58a-092f3130f09b"
      },
      "execution_count": 18,
      "outputs": [
        {
          "output_type": "execute_result",
          "data": {
            "text/plain": [
              "(x - 3)*(x - 1)*(x + 2)"
            ],
            "text/latex": "$\\displaystyle \\left(x - 3\\right) \\left(x - 1\\right) \\left(x + 2\\right)$"
          },
          "metadata": {},
          "execution_count": 18
        }
      ]
    }
  ]
}