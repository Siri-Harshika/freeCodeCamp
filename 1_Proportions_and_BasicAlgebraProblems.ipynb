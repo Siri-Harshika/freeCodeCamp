{
  "nbformat": 4,
  "nbformat_minor": 0,
  "metadata": {
    "colab": {
      "provenance": [],
      "collapsed_sections": [
        "wU-9Gt6VVUc7",
        "epWxZ5qMa6XL"
      ],
      "authorship_tag": "ABX9TyPi47DRsYfAW1c04AZ+ytxd",
      "include_colab_link": true
    },
    "kernelspec": {
      "name": "python3",
      "display_name": "Python 3"
    },
    "language_info": {
      "name": "python"
    }
  },
  "cells": [
    {
      "cell_type": "markdown",
      "metadata": {
        "id": "view-in-github",
        "colab_type": "text"
      },
      "source": [
        "<a href=\"https://colab.research.google.com/github/Siri-Harshika/freeCodeCamp/blob/College-Algebra-with-Python/1_Proportions_and_BasicAlgebraProblems.ipynb\" target=\"_parent\"><img src=\"https://colab.research.google.com/assets/colab-badge.svg\" alt=\"Open In Colab\"/></a>"
      ]
    },
    {
      "cell_type": "markdown",
      "source": [
        "# Solve a proportion: n1/d1 = n2/d2"
      ],
      "metadata": {
        "id": "wU-9Gt6VVUc7"
      }
    },
    {
      "cell_type": "code",
      "source": [
        "# Put a zero in for the unknown value\n",
        "n1 = 5\n",
        "d1 = 7\n",
        "n2 = 6\n",
        "d2 = 0\n",
        "\n",
        "if n2 == 0:\n",
        "    ans = n1 * d2 / d1\n",
        "    print(\"n2 = \", ans)\n",
        "\n",
        "if d2 == 0:\n",
        "    ans = n2 * d1 / n1\n",
        "    print(\"d2 = \", ans)"
      ],
      "metadata": {
        "colab": {
          "base_uri": "https://localhost:8080/"
        },
        "id": "sY0P4KmrVTcM",
        "outputId": "7f9f906a-7da2-43d5-ec58-6463ede2cd1e"
      },
      "execution_count": null,
      "outputs": [
        {
          "output_type": "stream",
          "name": "stdout",
          "text": [
            "d2 =  8.4\n"
          ]
        }
      ]
    },
    {
      "cell_type": "markdown",
      "source": [
        "# Practice: 1. Converts string input (even fractions) to float"
      ],
      "metadata": {
        "id": "epWxZ5qMa6XL"
      }
    },
    {
      "cell_type": "code",
      "source": [
        "# Definig a function which converts strings(even fractions) into float\n",
        "def string_frac(in_string):\n",
        "    if \"/\" in in_string:\n",
        "        nd = in_string.split(\"/\")\n",
        "        n  = float(nd[0])\n",
        "        d  = float(nd[1])\n",
        "        ans = n/d\n",
        "        return ans\n",
        "\n",
        "    else:\n",
        "        ans = float(in_string)\n",
        "        return ans"
      ],
      "metadata": {
        "id": "6ZyeOANwdCsK"
      },
      "execution_count": null,
      "outputs": []
    },
    {
      "cell_type": "code",
      "source": [
        "a = input(\"Enter a value for 'a'\")\n",
        "\n",
        "print(\"The float value of 'a' is \", string_frac(a))"
      ],
      "metadata": {
        "colab": {
          "base_uri": "https://localhost:8080/"
        },
        "id": "zOlUPPSceiQq",
        "outputId": "e436dd02-65c0-4387-e537-096437d666bd"
      },
      "execution_count": null,
      "outputs": [
        {
          "output_type": "stream",
          "name": "stdout",
          "text": [
            "Enter a value for 'a'5/8\n",
            "The float value of 'a' is  0.625\n"
          ]
        }
      ]
    },
    {
      "cell_type": "markdown",
      "source": [
        "# Practice: 2. Simplest one-step addition *problem*"
      ],
      "metadata": {
        "id": "c_61IsLAgLxN"
      }
    },
    {
      "cell_type": "code",
      "source": [
        "def one_step_add():\n",
        "    import random\n",
        "    # Selecting two random numbers\n",
        "    a = random.randint(-20,-1)\n",
        "    b = random.randint(1,20)\n",
        "\n",
        "    # Displays the question\n",
        "    print(\"x +\", a, \"= \", b)\n",
        "\n",
        "    # User answer\n",
        "    ans_in = float(input(\"x = \"))\n",
        "\n",
        "    # Actual answer\n",
        "    answer = b-a\n",
        "\n",
        "    # Test output\n",
        "    if ans_in == answer:\n",
        "        print(\"Bingo! Your answer is correct.\")\n",
        "    else:\n",
        "        print(\"Opps! Try again.\")"
      ],
      "metadata": {
        "id": "i6jaPWdkiDZI"
      },
      "execution_count": null,
      "outputs": []
    },
    {
      "cell_type": "code",
      "source": [
        "one_step_add()"
      ],
      "metadata": {
        "colab": {
          "base_uri": "https://localhost:8080/"
        },
        "id": "QASavkjRklxB",
        "outputId": "2dbce947-5867-401b-d1ea-bab9040997c2"
      },
      "execution_count": null,
      "outputs": [
        {
          "output_type": "stream",
          "name": "stdout",
          "text": [
            "x + -7 =  8\n",
            "x = 15\n",
            "Bingo! Your answer is correct.\n"
          ]
        }
      ]
    },
    {
      "cell_type": "markdown",
      "source": [
        "# Practice: 3. One-step addition with negative numbers (Subtraction)"
      ],
      "metadata": {
        "id": "9teJynYflTMo"
      }
    },
    {
      "cell_type": "code",
      "source": [
        "def one_step_subtract():\n",
        "    import random\n",
        "    # Selecting two random numbers\n",
        "    a = random.randint(1,20)\n",
        "    b = random.randint(1,20)\n",
        "\n",
        "    # Displays the question\n",
        "    print(\"x + \", a, \"= \", b)\n",
        "\n",
        "    # User answer\n",
        "    ans_in = float(input(\"x = \"))\n",
        "\n",
        "    # Actual answer\n",
        "    answer = b-a\n",
        "\n",
        "    # Test output\n",
        "    if ans_in == answer:\n",
        "        print(\"Bingo! Your answer is correct.\")\n",
        "    else:\n",
        "        print(\"Opps! Try again.\")"
      ],
      "metadata": {
        "id": "kFJKxYRwnGc3"
      },
      "execution_count": null,
      "outputs": []
    },
    {
      "cell_type": "code",
      "source": [
        "one_step_subtract()"
      ],
      "metadata": {
        "colab": {
          "base_uri": "https://localhost:8080/"
        },
        "id": "lvaCHYRPoTR9",
        "outputId": "e0e90188-af0d-4920-8fd4-ff2172f301b7"
      },
      "execution_count": null,
      "outputs": [
        {
          "output_type": "stream",
          "name": "stdout",
          "text": [
            "x +  6 =  11\n",
            "x = 5\n",
            "Bingo! Your answer is correct.\n"
          ]
        }
      ]
    },
    {
      "cell_type": "markdown",
      "source": [
        "# Practice: 4. One-step multiply"
      ],
      "metadata": {
        "id": "TceLi6bOo8tL"
      }
    },
    {
      "cell_type": "code",
      "source": [
        "def one_step_mult():\n",
        "    import random\n",
        "    # Selecting two random numbers\n",
        "    a = random.randint(1,20)\n",
        "    b = random.randint(1,20)\n",
        "\n",
        "    # Displays the question\n",
        "    print(\"x/\",a, \" = \", b)\n",
        "\n",
        "    # User answer\n",
        "    ans_in = float(input(\"x = \"))\n",
        "\n",
        "    # Actual answer\n",
        "    answer = a * b\n",
        "\n",
        "    # Test output\n",
        "    if ans_in == answer:\n",
        "        print(\"Bingo! Your answer is correct.\")\n",
        "    else:\n",
        "        print(\"Opps! Try again.\")"
      ],
      "metadata": {
        "id": "v5SJ9gqppBbX"
      },
      "execution_count": null,
      "outputs": []
    },
    {
      "cell_type": "code",
      "source": [
        "one_step_mult()"
      ],
      "metadata": {
        "colab": {
          "base_uri": "https://localhost:8080/"
        },
        "id": "eVG3W2bPrLma",
        "outputId": "4224470c-2490-44cc-a96d-e0e4041438ef"
      },
      "execution_count": null,
      "outputs": [
        {
          "output_type": "stream",
          "name": "stdout",
          "text": [
            "x/ 14  =  10\n",
            "x = 140\n",
            "Bingo! Your answer is correct.\n"
          ]
        }
      ]
    },
    {
      "cell_type": "markdown",
      "source": [
        "# Practice: 4. One-step division"
      ],
      "metadata": {
        "id": "8bMRikflrh1r"
      }
    },
    {
      "cell_type": "code",
      "source": [
        "def one_step_div():\n",
        "    import random\n",
        "    # Selecting two random numbers\n",
        "    a = random.randint(1,10)\n",
        "    b = random.randint(1,20)\n",
        "\n",
        "    # Displays the question\n",
        "    print(a, \"x = \", b)\n",
        "\n",
        "    # User answer\n",
        "    print(\"Round your answer to two decimal places.\")\n",
        "    ans_in = (input(\"x = \"))\n",
        "\n",
        "    # Actual answer\n",
        "    answer = round(b/a,2)\n",
        "\n",
        "    # Test output\n",
        "    # Uses string_frac(<input string>)\n",
        "    if string_frac(ans_in) == answer:\n",
        "        print(\"Bingo! Your answer is correct.\")\n",
        "    else:\n",
        "        print(\"Opps! Try again.\")\n",
        "        print(\"The correct answer is \", answer, \"\\n\")"
      ],
      "metadata": {
        "id": "qBu48O-hrots"
      },
      "execution_count": null,
      "outputs": []
    },
    {
      "cell_type": "code",
      "source": [
        "one_step_div()"
      ],
      "metadata": {
        "colab": {
          "base_uri": "https://localhost:8080/"
        },
        "id": "dtDwHxfHtDpi",
        "outputId": "7af4a1e6-b951-4a38-f532-71e67077cea6"
      },
      "execution_count": null,
      "outputs": [
        {
          "output_type": "stream",
          "name": "stdout",
          "text": [
            "9 x =  16\n",
            "Round your answer to two decimal places.\n",
            "x = 1.78\n",
            "Bingo! Your answer is correct.\n"
          ]
        }
      ]
    },
    {
      "cell_type": "markdown",
      "source": [
        "# Practice: 5. Two-step problems"
      ],
      "metadata": {
        "id": "XZiosvCqv3lF"
      }
    },
    {
      "cell_type": "code",
      "source": [
        "def two_step():\n",
        "    import random\n",
        "    # Selecting three random numbers\n",
        "    a = random.randint(1,20)\n",
        "    b = random.randint(-20,20)\n",
        "    c = random.randint(-40,40)\n",
        "\n",
        "    # Displays the question\n",
        "    print(a, \"x + \", b, \"= \", c)\n",
        "\n",
        "    # User answer\n",
        "    print(\"Round your answer to two decimal places.\")\n",
        "    ans_in = (input(\"x = \"))\n",
        "\n",
        "    # Actual answer\n",
        "    answer = round((c-b)/a,2)\n",
        "\n",
        "    # Test output\n",
        "    # Uses string_frac(<input string>)\n",
        "    if string_frac(ans_in) == answer:\n",
        "        print(\"Bingo! Your answer is correct.\")\n",
        "    else:\n",
        "        print(\"Opps! Try again.\")\n",
        "        print(\"The correct answer is \", answer, \"\\n\")"
      ],
      "metadata": {
        "id": "0_OhgBpswBAH"
      },
      "execution_count": null,
      "outputs": []
    },
    {
      "cell_type": "code",
      "source": [
        "two_step()"
      ],
      "metadata": {
        "colab": {
          "base_uri": "https://localhost:8080/"
        },
        "id": "aHILy8lbyXwS",
        "outputId": "14c97a00-2624-467e-f215-00bc51dda224"
      },
      "execution_count": null,
      "outputs": [
        {
          "output_type": "stream",
          "name": "stdout",
          "text": [
            "16 x +  0 =  36\n",
            "Round your answer to two decimal places.\n",
            "x = 9/4\n",
            "Bingo! Your answer is correct.\n"
          ]
        }
      ]
    },
    {
      "cell_type": "markdown",
      "source": [
        "# Practice: 6. Test Package (test loop)"
      ],
      "metadata": {
        "id": "weLVwZn5yslc"
      }
    },
    {
      "cell_type": "code",
      "source": [
        "# Setting the code to run for two times\n",
        "for a in range(2):\n",
        "    one_step_add()\n",
        "    one_step_subtract()\n",
        "    one_step_mult()\n",
        "    one_step_div()\n",
        "    two_step()\n",
        "    print(\" \")\n",
        "\n",
        "two_step()\n",
        "two_step()"
      ],
      "metadata": {
        "colab": {
          "base_uri": "https://localhost:8080/"
        },
        "id": "IYZzHTXRy0m0",
        "outputId": "3cb8fcba-4695-4675-8bc6-fffb4c2ce808"
      },
      "execution_count": null,
      "outputs": [
        {
          "output_type": "stream",
          "name": "stdout",
          "text": [
            "x + -6 =  15\n",
            "x = 21\n",
            "Bingo! Your answer is correct.\n",
            "x +  6 =  3\n",
            "x = -3\n",
            "Bingo! Your answer is correct.\n",
            "x/ 8  =  20\n",
            "x = 160\n",
            "Bingo! Your answer is correct.\n",
            "10 x =  14\n",
            "Round your answer to two decimal places.\n",
            "x = 1.4\n",
            "Bingo! Your answer is correct.\n",
            "19 x +  2 =  -37\n",
            "Round your answer to two decimal places.\n",
            "x = -39/19\n",
            "Opps! Try again.\n",
            "The correct answer is  -2.05 \n",
            "\n",
            " \n",
            "x + -4 =  12\n",
            "x = 16\n",
            "Bingo! Your answer is correct.\n",
            "x +  14 =  11\n",
            "x = -3\n",
            "Bingo! Your answer is correct.\n",
            "x/ 20  =  13\n",
            "x = 20\n",
            "Opps! Try again.\n",
            "5 x =  19\n",
            "Round your answer to two decimal places.\n",
            "x = 3.8\n",
            "Bingo! Your answer is correct.\n",
            "16 x +  4 =  -32\n",
            "Round your answer to two decimal places.\n",
            "x = -36/16\n",
            "Bingo! Your answer is correct.\n",
            " \n",
            "8 x +  -15 =  -38\n",
            "Round your answer to two decimal places.\n",
            "x = -23/8\n",
            "Opps! Try again.\n",
            "The correct answer is  -2.88 \n",
            "\n",
            "3 x +  6 =  -33\n",
            "Round your answer to two decimal places.\n",
            "x = -13\n",
            "Bingo! Your answer is correct.\n"
          ]
        }
      ]
    }
  ]
}